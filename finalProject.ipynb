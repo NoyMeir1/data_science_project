{
 "cells": [
  {
   "cell_type": "markdown",
   "metadata": {
    "id": "vOAaiCXUTWcB"
   },
   "source": [
    "## 1) Tweepy API"
   ]
  },
  {
   "cell_type": "code",
   "execution_count": 20,
   "metadata": {
    "colab": {
     "base_uri": "https://localhost:8080/"
    },
    "id": "Mhqd6o0nTElV",
    "outputId": "46f57ed3-a022-4e7a-d1aa-10769eade357"
   },
   "outputs": [
    {
     "name": "stdout",
     "output_type": "stream",
     "text": [
      "Requirement already satisfied: tweepy in c:\\users\\noy\\anaconda3\\lib\\site-packages (4.10.0)\n",
      "Requirement already satisfied: requests<3,>=2.27.0 in c:\\users\\noy\\anaconda3\\lib\\site-packages (from tweepy) (2.28.0)\n",
      "Requirement already satisfied: requests-oauthlib<2,>=1.2.0 in c:\\users\\noy\\anaconda3\\lib\\site-packages (from tweepy) (1.3.1)\n",
      "Requirement already satisfied: oauthlib<4,>=3.2.0 in c:\\users\\noy\\anaconda3\\lib\\site-packages (from tweepy) (3.2.0)\n",
      "Requirement already satisfied: certifi>=2017.4.17 in c:\\users\\noy\\anaconda3\\lib\\site-packages (from requests<3,>=2.27.0->tweepy) (2020.12.5)\n",
      "Requirement already satisfied: charset-normalizer~=2.0.0 in c:\\users\\noy\\anaconda3\\lib\\site-packages (from requests<3,>=2.27.0->tweepy) (2.0.12)\n",
      "Requirement already satisfied: urllib3<1.27,>=1.21.1 in c:\\users\\noy\\anaconda3\\lib\\site-packages (from requests<3,>=2.27.0->tweepy) (1.26.4)\n",
      "Requirement already satisfied: idna<4,>=2.5 in c:\\users\\noy\\anaconda3\\lib\\site-packages (from requests<3,>=2.27.0->tweepy) (2.10)\n"
     ]
    }
   ],
   "source": [
    "!pip install tweepy"
   ]
  },
  {
   "cell_type": "code",
   "execution_count": 21,
   "metadata": {
    "id": "_oRbj02KTOQy"
   },
   "outputs": [],
   "source": [
    "import tweepy\n",
    "import pandas as pd\n",
    "import datetime"
   ]
  },
  {
   "cell_type": "code",
   "execution_count": 22,
   "metadata": {
    "id": "wacmrt9FTNeU"
   },
   "outputs": [],
   "source": [
    "API_KEY= \"h0dz4h8hzvKPCaAzqXZWqGMLH\"\n",
    "API_SECRET = \"RT6hpWeGcosddXt6m36SuCJNnsPcqiZHIYiuFJFVyGoSMuhd7V\"\n",
    "ACCESS_TOKEN  = \"1521795591126278144-GQdx9h3NtppK49Ko10O2NH8WdoBnKW\"\n",
    "ACCESS_TOKEN_SECRET = \"w4q1vYbrZfgQOw46xQNnu2yeQiLHgUIt5M0HsgkUuzrSZ\""
   ]
  },
  {
   "cell_type": "code",
   "execution_count": 23,
   "metadata": {
    "id": "xA3NPsN8Th8w"
   },
   "outputs": [],
   "source": [
    "# Authenticate to Twitter\n",
    "auth = tweepy.OAuthHandler(API_KEY,API_SECRET)\n",
    "auth.set_access_token(ACCESS_TOKEN, ACCESS_TOKEN_SECRET)\n",
    "api = tweepy.API(auth , wait_on_rate_limit=True)"
   ]
  },
  {
   "cell_type": "markdown",
   "metadata": {
    "id": "IabgKwp5Tkca"
   },
   "source": [
    "## 2) Select anti-Israel hashtags to create our dataset\n",
    "\n",
    "\n",
    "We will annotate anti-Israel tweets that contains ones of the following hastags:\n",
    "\n",
    "\n",
    ">#BDS4Israel OR #IsraeliCrimes OR #StopIsraeliApartheid OR #IsraeliStateTerrorOnGaza OR #BDS OR #Israeliterrorism OR #Israelioccupation OR #BoycottIsrael OR #EndIsraeliApartheid OR #ApartheidIsrael\n",
    "\n",
    "\n"
   ]
  },
  {
   "cell_type": "code",
   "execution_count": 24,
   "metadata": {
    "id": "xYFYDlqbVzsa"
   },
   "outputs": [],
   "source": [
    "htg ='#BDS4Israel #IsraeliCrimes #StopIsraeliApartheid #IsraeliStateTerrorOnGaza #BDS #Israeliterrorism #Israelioccupation #BoycottIsrael #EndIsraeliApartheid #ApartheidIsrael'"
   ]
  },
  {
   "cell_type": "code",
   "execution_count": 25,
   "metadata": {
    "id": "FhxQC9HYV8bl"
   },
   "outputs": [],
   "source": [
    "q = ' OR '.join(htg.split(' '))"
   ]
  },
  {
   "cell_type": "code",
   "execution_count": 26,
   "metadata": {
    "colab": {
     "base_uri": "https://localhost:8080/",
     "height": 54
    },
    "id": "4_A813vgaA73",
    "outputId": "cad43dd4-51d6-4a48-df74-c43cdd9d6d01"
   },
   "outputs": [
    {
     "data": {
      "text/plain": [
       "'#BDS4Israel OR #IsraeliCrimes OR #StopIsraeliApartheid OR #IsraeliStateTerrorOnGaza OR #BDS OR #Israeliterrorism OR #Israelioccupation OR #BoycottIsrael OR #EndIsraeliApartheid OR #ApartheidIsrael'"
      ]
     },
     "execution_count": 26,
     "metadata": {},
     "output_type": "execute_result"
    }
   ],
   "source": [
    "q"
   ]
  },
  {
   "cell_type": "code",
   "execution_count": 27,
   "metadata": {
    "id": "web-54JhUNX9"
   },
   "outputs": [
    {
     "name": "stderr",
     "output_type": "stream",
     "text": [
      "Unexpected parameter: rpp\n"
     ]
    },
    {
     "data": {
      "text/html": [
       "<div>\n",
       "<style scoped>\n",
       "    .dataframe tbody tr th:only-of-type {\n",
       "        vertical-align: middle;\n",
       "    }\n",
       "\n",
       "    .dataframe tbody tr th {\n",
       "        vertical-align: top;\n",
       "    }\n",
       "\n",
       "    .dataframe thead th {\n",
       "        text-align: right;\n",
       "    }\n",
       "</style>\n",
       "<table border=\"1\" class=\"dataframe\">\n",
       "  <thead>\n",
       "    <tr style=\"text-align: right;\">\n",
       "      <th></th>\n",
       "      <th>tweet</th>\n",
       "    </tr>\n",
       "  </thead>\n",
       "  <tbody>\n",
       "    <tr>\n",
       "      <th>0</th>\n",
       "      <td>A message for @justinbieber \\n\\n#FreePalestine...</td>\n",
       "    </tr>\n",
       "    <tr>\n",
       "      <th>1</th>\n",
       "      <td>#JoeBiden is continuing to subsidize Israel's ...</td>\n",
       "    </tr>\n",
       "    <tr>\n",
       "      <th>2</th>\n",
       "      <td>Promoting a false narrative designed to inflam...</td>\n",
       "    </tr>\n",
       "    <tr>\n",
       "      <th>3</th>\n",
       "      <td>This is a good statement of the extent of #Apa...</td>\n",
       "    </tr>\n",
       "    <tr>\n",
       "      <th>4</th>\n",
       "      <td>@CombatASemitism @NGOmonitor @Ostrov_A @IbsiNo...</td>\n",
       "    </tr>\n",
       "    <tr>\n",
       "      <th>5</th>\n",
       "      <td>Justin Beiber is scheduled to return to Aparth...</td>\n",
       "    </tr>\n",
       "    <tr>\n",
       "      <th>6</th>\n",
       "      <td>eye.on.palestine #Palestine | Hebron, Sahleh s...</td>\n",
       "    </tr>\n",
       "    <tr>\n",
       "      <th>7</th>\n",
       "      <td>A message for @justinbieber \\n\\n#FreePalestine...</td>\n",
       "    </tr>\n",
       "    <tr>\n",
       "      <th>8</th>\n",
       "      <td>@JonahIvriAnochi @manifesto2000 @TopRantKing @...</td>\n",
       "    </tr>\n",
       "    <tr>\n",
       "      <th>9</th>\n",
       "      <td>@LeeJone50103071 Things get ignored when they ...</td>\n",
       "    </tr>\n",
       "  </tbody>\n",
       "</table>\n",
       "</div>"
      ],
      "text/plain": [
       "                                               tweet\n",
       "0  A message for @justinbieber \\n\\n#FreePalestine...\n",
       "1  #JoeBiden is continuing to subsidize Israel's ...\n",
       "2  Promoting a false narrative designed to inflam...\n",
       "3  This is a good statement of the extent of #Apa...\n",
       "4  @CombatASemitism @NGOmonitor @Ostrov_A @IbsiNo...\n",
       "5  Justin Beiber is scheduled to return to Aparth...\n",
       "6  eye.on.palestine #Palestine | Hebron, Sahleh s...\n",
       "7  A message for @justinbieber \\n\\n#FreePalestine...\n",
       "8  @JonahIvriAnochi @manifesto2000 @TopRantKing @...\n",
       "9  @LeeJone50103071 Things get ignored when they ..."
      ]
     },
     "execution_count": 27,
     "metadata": {},
     "output_type": "execute_result"
    }
   ],
   "source": [
    "df = pd.DataFrame({'tweet':[]})\n",
    "\n",
    "# example on 10 rows\n",
    "for status in tweepy.Cursor(api.search_tweets, q = q,lang=\"en\", rpp=100, tweet_mode='extended', result_type='recent').items(10):\n",
    "  try:\n",
    "      # print(status.retweeted_status.full_text,end='\\n___________\\n')\n",
    "      df=df.append({'tweet':status.retweeted_status.full_text}, ignore_index=True)\n",
    "\n",
    "  except AttributeError:  # Not a Retweet\n",
    "      # print(status.full_text,end='\\n___________\\n\\n')\n",
    "      df=df.append({'tweet':status.full_text}, ignore_index=True)\n",
    "\n",
    "df"
   ]
  },
  {
   "cell_type": "code",
   "execution_count": 28,
   "metadata": {
    "id": "hgfYoSMJUR7W"
   },
   "outputs": [],
   "source": [
    "# df.to_csv('/twitter_data/tweet_10_anti.csv')"
   ]
  },
  {
   "cell_type": "markdown",
   "metadata": {
    "id": "pIrBWeF6URXa"
   },
   "source": [
    "## 3) Select random tweets as no anti-Israel tweets"
   ]
  },
  {
   "cell_type": "code",
   "execution_count": 29,
   "metadata": {
    "colab": {
     "background_save": true
    },
    "id": "8MtO3MrXM551",
    "outputId": "33036b8c-1b40-4bef-e264-41e0c3e70da7"
   },
   "outputs": [
    {
     "name": "stderr",
     "output_type": "stream",
     "text": [
      "Unexpected parameter: rpp\n"
     ]
    },
    {
     "data": {
      "text/html": [
       "<div>\n",
       "<style scoped>\n",
       "    .dataframe tbody tr th:only-of-type {\n",
       "        vertical-align: middle;\n",
       "    }\n",
       "\n",
       "    .dataframe tbody tr th {\n",
       "        vertical-align: top;\n",
       "    }\n",
       "\n",
       "    .dataframe thead th {\n",
       "        text-align: right;\n",
       "    }\n",
       "</style>\n",
       "<table border=\"1\" class=\"dataframe\">\n",
       "  <thead>\n",
       "    <tr style=\"text-align: right;\">\n",
       "      <th></th>\n",
       "      <th>tweet</th>\n",
       "    </tr>\n",
       "  </thead>\n",
       "  <tbody>\n",
       "    <tr>\n",
       "      <th>0</th>\n",
       "      <td>Brb switching twitter to a notebook</td>\n",
       "    </tr>\n",
       "    <tr>\n",
       "      <th>1</th>\n",
       "      <td>@atulysharma @Anujalankar9 True</td>\n",
       "    </tr>\n",
       "    <tr>\n",
       "      <th>2</th>\n",
       "      <td>This set is so cute! https://t.co/ir9x2NE8eq</td>\n",
       "    </tr>\n",
       "    <tr>\n",
       "      <th>3</th>\n",
       "      <td>☄️ Extraterrestrial Societies X Advent 😈\\n\\nGi...</td>\n",
       "    </tr>\n",
       "    <tr>\n",
       "      <th>4</th>\n",
       "      <td>If you gently untie the bread nylon, you won't...</td>\n",
       "    </tr>\n",
       "    <tr>\n",
       "      <th>5</th>\n",
       "      <td>I was thinking of this character who's ended u...</td>\n",
       "    </tr>\n",
       "    <tr>\n",
       "      <th>6</th>\n",
       "      <td>His name is Aswad Ayinde,he directed the popul...</td>\n",
       "    </tr>\n",
       "    <tr>\n",
       "      <th>7</th>\n",
       "      <td>There are people living on the streets who’ve ...</td>\n",
       "    </tr>\n",
       "    <tr>\n",
       "      <th>8</th>\n",
       "      <td>Lisen Rylander’s voice appears on Dignity, who...</td>\n",
       "    </tr>\n",
       "    <tr>\n",
       "      <th>9</th>\n",
       "      <td>@gcuriom $secretsnake</td>\n",
       "    </tr>\n",
       "  </tbody>\n",
       "</table>\n",
       "</div>"
      ],
      "text/plain": [
       "                                               tweet\n",
       "0                Brb switching twitter to a notebook\n",
       "1                    @atulysharma @Anujalankar9 True\n",
       "2       This set is so cute! https://t.co/ir9x2NE8eq\n",
       "3  ☄️ Extraterrestrial Societies X Advent 😈\\n\\nGi...\n",
       "4  If you gently untie the bread nylon, you won't...\n",
       "5  I was thinking of this character who's ended u...\n",
       "6  His name is Aswad Ayinde,he directed the popul...\n",
       "7  There are people living on the streets who’ve ...\n",
       "8  Lisen Rylander’s voice appears on Dignity, who...\n",
       "9                              @gcuriom $secretsnake"
      ]
     },
     "execution_count": 29,
     "metadata": {},
     "output_type": "execute_result"
    }
   ],
   "source": [
    "df = pd.DataFrame({'tweet':[]})\n",
    "\n",
    "# example on 10 rows\n",
    "for status in tweepy.Cursor(api.search_tweets, q = '#',lang=\"en\", rpp=100, tweet_mode='extended', result_type='recent').items(10):\n",
    "  try:\n",
    "      # print(status.retweeted_status.full_text,end='\\n___________\\n')\n",
    "      df=df.append({'tweet':status.retweeted_status.full_text}, ignore_index=True)\n",
    "\n",
    "  except AttributeError:  # Not a Retweet\n",
    "      # print(status.full_text,end='\\n___________\\n\\n')\n",
    "      df=df.append({'tweet':status.full_text}, ignore_index=True)\n",
    "\n",
    "df"
   ]
  },
  {
   "cell_type": "code",
   "execution_count": 30,
   "metadata": {
    "colab": {
     "background_save": true
    },
    "id": "TdoHWLgm_0-Y"
   },
   "outputs": [],
   "source": [
    "# df.to_csv('/twitter_data/tweet_11_neutral.csv')"
   ]
  },
  {
   "cell_type": "markdown",
   "metadata": {
    "id": "01HlGAy9U_Qs"
   },
   "source": [
    "## 4) Repeat data collection through time\n",
    "\n",
    "\n",
    "We repeated this operations in differents days to have multiple tweets at different time\n",
    "\n",
    "All our data are save in the **twitter_data** folder"
   ]
  },
  {
   "cell_type": "code",
   "execution_count": null,
   "metadata": {},
   "outputs": [],
   "source": []
  },
  {
   "cell_type": "code",
   "execution_count": 31,
   "metadata": {
    "id": "PdYkNWHwA3jY"
   },
   "outputs": [],
   "source": [
    "import pandas as pd\n",
    "import matplotlib.pyplot as plt\n",
    "import seaborn as sns\n",
    "import re\n",
    "import string\n",
    "import numpy as np\n",
    "import os\n",
    "\n",
    "from collections import Counter\n",
    "from itertools import chain\n"
   ]
  },
  {
   "cell_type": "code",
   "execution_count": 32,
   "metadata": {
    "colab": {
     "base_uri": "https://localhost:8080/"
    },
    "id": "fejKtYX5Q95f",
    "outputId": "ad0a46fa-cddc-46f4-c066-17389bcae515"
   },
   "outputs": [
    {
     "name": "stderr",
     "output_type": "stream",
     "text": [
      "[nltk_data] Downloading package stopwords to\n",
      "[nltk_data]     C:\\Users\\Noy\\AppData\\Roaming\\nltk_data...\n",
      "[nltk_data]   Package stopwords is already up-to-date!\n",
      "[nltk_data] Downloading package wordnet to\n",
      "[nltk_data]     C:\\Users\\Noy\\AppData\\Roaming\\nltk_data...\n",
      "[nltk_data]   Package wordnet is already up-to-date!\n",
      "[nltk_data] Downloading package punkt to\n",
      "[nltk_data]     C:\\Users\\Noy\\AppData\\Roaming\\nltk_data...\n",
      "[nltk_data]   Package punkt is already up-to-date!\n",
      "[nltk_data] Downloading package omw-1.4 to\n",
      "[nltk_data]     C:\\Users\\Noy\\AppData\\Roaming\\nltk_data...\n",
      "[nltk_data]   Package omw-1.4 is already up-to-date!\n"
     ]
    }
   ],
   "source": [
    "import nltk \n",
    "nltk.download('stopwords')\n",
    "nltk.download('wordnet')\n",
    "nltk.download('punkt')\n",
    "nltk.download('omw-1.4')\n",
    "from nltk.corpus import stopwords\n",
    "from nltk.stem import PorterStemmer, WordNetLemmatizer\n",
    "from nltk import word_tokenize\n",
    "from nltk.corpus import stopwords, wordnet\n"
   ]
  },
  {
   "cell_type": "code",
   "execution_count": 33,
   "metadata": {
    "id": "mL9mCwuIpwen"
   },
   "outputs": [],
   "source": [
    "# sklearn\n",
    "from sklearn.svm import LinearSVC\n",
    "from sklearn.naive_bayes import BernoulliNB\n",
    "from sklearn.linear_model import LogisticRegression\n",
    "\n",
    "from sklearn.model_selection import train_test_split\n",
    "from sklearn.feature_extraction.text import TfidfVectorizer\n",
    "from sklearn.metrics import confusion_matrix, classification_report"
   ]
  },
  {
   "cell_type": "markdown",
   "metadata": {
    "id": "pOJuMAo7lnnO"
   },
   "source": [
    "## 1)a) Import Data\n",
    "\n",
    "After colleting the data with tweepy API we will aggregate all csv file to one dataset"
   ]
  },
  {
   "cell_type": "code",
   "execution_count": 34,
   "metadata": {
    "id": "uBU9a1MnHfh5"
   },
   "outputs": [],
   "source": [
    "df_anti_list = []\n",
    "df_neutral_list = []\n",
    "all_files = []\n",
    "path='./twitter_data/'\n",
    "\n",
    "for fichier in os.listdir(path):\n",
    "        all_files.append(fichier)\n",
    "\n",
    "for filename in all_files:\n",
    "    try:\n",
    "        df = pd.read_csv(path+filename).drop('Unnamed: 0', axis =1)\n",
    "    except:\n",
    "        continue \n",
    "    if filename[-8:-4] == 'anti':\n",
    "      df_anti_list.append(df)\n",
    "    \n",
    "    else:\n",
    "      df_neutral_list.append(df)\n",
    "\n",
    "df_anti = pd.concat(df_anti_list, axis=0, ignore_index= True)\n",
    "df_anti['anti-Israel'] = 1\n",
    "\n",
    "df_neutral = pd.concat(df_neutral_list, axis=0, ignore_index= True)\n",
    "df_neutral['anti-Israel'] = 0\n"
   ]
  },
  {
   "cell_type": "code",
   "execution_count": 35,
   "metadata": {
    "colab": {
     "base_uri": "https://localhost:8080/",
     "height": 419
    },
    "id": "uMY9lcj2L_hd",
    "outputId": "1d94184c-a9e8-4672-a3c7-c06ccfea8c3d"
   },
   "outputs": [
    {
     "data": {
      "text/html": [
       "<div>\n",
       "<style scoped>\n",
       "    .dataframe tbody tr th:only-of-type {\n",
       "        vertical-align: middle;\n",
       "    }\n",
       "\n",
       "    .dataframe tbody tr th {\n",
       "        vertical-align: top;\n",
       "    }\n",
       "\n",
       "    .dataframe thead th {\n",
       "        text-align: right;\n",
       "    }\n",
       "</style>\n",
       "<table border=\"1\" class=\"dataframe\">\n",
       "  <thead>\n",
       "    <tr style=\"text-align: right;\">\n",
       "      <th></th>\n",
       "      <th>tweet</th>\n",
       "      <th>anti-Israel</th>\n",
       "    </tr>\n",
       "  </thead>\n",
       "  <tbody>\n",
       "    <tr>\n",
       "      <th>0</th>\n",
       "      <td>What a joke…talk about twisting history\\nDeath...</td>\n",
       "      <td>1</td>\n",
       "    </tr>\n",
       "    <tr>\n",
       "      <th>1</th>\n",
       "      <td>A completely unprovoked attack on #SaveSheikhJ...</td>\n",
       "      <td>1</td>\n",
       "    </tr>\n",
       "    <tr>\n",
       "      <th>2</th>\n",
       "      <td>#BDS Pressure Works!\\n\\n@HP-branded companies ...</td>\n",
       "      <td>1</td>\n",
       "    </tr>\n",
       "    <tr>\n",
       "      <th>3</th>\n",
       "      <td>@mishtal Amnesty International is not mistaken...</td>\n",
       "      <td>1</td>\n",
       "    </tr>\n",
       "    <tr>\n",
       "      <th>4</th>\n",
       "      <td>2 years since Eyad Al-Hallaq was murdered by a...</td>\n",
       "      <td>1</td>\n",
       "    </tr>\n",
       "    <tr>\n",
       "      <th>...</th>\n",
       "      <td>...</td>\n",
       "      <td>...</td>\n",
       "    </tr>\n",
       "    <tr>\n",
       "      <th>65602</th>\n",
       "      <td>Lille, 15.05.21 🇵🇸\\n#Palestine #FreePalestine ...</td>\n",
       "      <td>1</td>\n",
       "    </tr>\n",
       "    <tr>\n",
       "      <th>65603</th>\n",
       "      <td>New wave of #terrorism against #Syria by #Isra...</td>\n",
       "      <td>1</td>\n",
       "    </tr>\n",
       "    <tr>\n",
       "      <th>65604</th>\n",
       "      <td>Lille, 15.05.21 🇵🇸👂🏼\\n#Palestine #FreePalestin...</td>\n",
       "      <td>1</td>\n",
       "    </tr>\n",
       "    <tr>\n",
       "      <th>65605</th>\n",
       "      <td>Israeli police : \\n\\n“no disciplinary action w...</td>\n",
       "      <td>1</td>\n",
       "    </tr>\n",
       "    <tr>\n",
       "      <th>65606</th>\n",
       "      <td>#BDS needed now. We saw how quickly it was use...</td>\n",
       "      <td>1</td>\n",
       "    </tr>\n",
       "  </tbody>\n",
       "</table>\n",
       "<p>65607 rows × 2 columns</p>\n",
       "</div>"
      ],
      "text/plain": [
       "                                                   tweet  anti-Israel\n",
       "0      What a joke…talk about twisting history\\nDeath...            1\n",
       "1      A completely unprovoked attack on #SaveSheikhJ...            1\n",
       "2      #BDS Pressure Works!\\n\\n@HP-branded companies ...            1\n",
       "3      @mishtal Amnesty International is not mistaken...            1\n",
       "4      2 years since Eyad Al-Hallaq was murdered by a...            1\n",
       "...                                                  ...          ...\n",
       "65602  Lille, 15.05.21 🇵🇸\\n#Palestine #FreePalestine ...            1\n",
       "65603  New wave of #terrorism against #Syria by #Isra...            1\n",
       "65604  Lille, 15.05.21 🇵🇸👂🏼\\n#Palestine #FreePalestin...            1\n",
       "65605  Israeli police : \\n\\n“no disciplinary action w...            1\n",
       "65606  #BDS needed now. We saw how quickly it was use...            1\n",
       "\n",
       "[65607 rows x 2 columns]"
      ]
     },
     "execution_count": 35,
     "metadata": {},
     "output_type": "execute_result"
    }
   ],
   "source": [
    "df_anti"
   ]
  },
  {
   "cell_type": "code",
   "execution_count": 36,
   "metadata": {
    "colab": {
     "base_uri": "https://localhost:8080/",
     "height": 419
    },
    "id": "J05KxhZzMC8_",
    "outputId": "e927ad61-fe1b-408e-c6e0-413f0d5ca0bd"
   },
   "outputs": [
    {
     "data": {
      "text/html": [
       "<div>\n",
       "<style scoped>\n",
       "    .dataframe tbody tr th:only-of-type {\n",
       "        vertical-align: middle;\n",
       "    }\n",
       "\n",
       "    .dataframe tbody tr th {\n",
       "        vertical-align: top;\n",
       "    }\n",
       "\n",
       "    .dataframe thead th {\n",
       "        text-align: right;\n",
       "    }\n",
       "</style>\n",
       "<table border=\"1\" class=\"dataframe\">\n",
       "  <thead>\n",
       "    <tr style=\"text-align: right;\">\n",
       "      <th></th>\n",
       "      <th>tweet</th>\n",
       "      <th>anti-Israel</th>\n",
       "    </tr>\n",
       "  </thead>\n",
       "  <tbody>\n",
       "    <tr>\n",
       "      <th>0</th>\n",
       "      <td>aries cancer libra capricorn gemini virgo\\n\\nw...</td>\n",
       "      <td>0</td>\n",
       "    </tr>\n",
       "    <tr>\n",
       "      <th>1</th>\n",
       "      <td>.@Safety_Canada Minister tells @SenateCA commi...</td>\n",
       "      <td>0</td>\n",
       "    </tr>\n",
       "    <tr>\n",
       "      <th>2</th>\n",
       "      <td>Now, this is the way to do it..\\n\\n.https://t....</td>\n",
       "      <td>0</td>\n",
       "    </tr>\n",
       "    <tr>\n",
       "      <th>3</th>\n",
       "      <td>So cute 💛 https://t.co/TP0Xm1CNpi</td>\n",
       "      <td>0</td>\n",
       "    </tr>\n",
       "    <tr>\n",
       "      <th>4</th>\n",
       "      <td>Join @GuyRyder, @ilo Director-General, Catheri...</td>\n",
       "      <td>0</td>\n",
       "    </tr>\n",
       "    <tr>\n",
       "      <th>...</th>\n",
       "      <td>...</td>\n",
       "      <td>...</td>\n",
       "    </tr>\n",
       "    <tr>\n",
       "      <th>43404</th>\n",
       "      <td>#NewProfilePic Beyond stoked to be able to joi...</td>\n",
       "      <td>0</td>\n",
       "    </tr>\n",
       "    <tr>\n",
       "      <th>43405</th>\n",
       "      <td>@Merrion I am in no way lambasting it - please...</td>\n",
       "      <td>0</td>\n",
       "    </tr>\n",
       "    <tr>\n",
       "      <th>43406</th>\n",
       "      <td>AC/DC - Live Wire (1979 Paris) https://t.co/X5...</td>\n",
       "      <td>0</td>\n",
       "    </tr>\n",
       "    <tr>\n",
       "      <th>43407</th>\n",
       "      <td>.@TNX_Official's '비켜' second MV teaser, has su...</td>\n",
       "      <td>0</td>\n",
       "    </tr>\n",
       "    <tr>\n",
       "      <th>43408</th>\n",
       "      <td>and knowing that they actually watch kdramas.....</td>\n",
       "      <td>0</td>\n",
       "    </tr>\n",
       "  </tbody>\n",
       "</table>\n",
       "<p>43409 rows × 2 columns</p>\n",
       "</div>"
      ],
      "text/plain": [
       "                                                   tweet  anti-Israel\n",
       "0      aries cancer libra capricorn gemini virgo\\n\\nw...            0\n",
       "1      .@Safety_Canada Minister tells @SenateCA commi...            0\n",
       "2      Now, this is the way to do it..\\n\\n.https://t....            0\n",
       "3                      So cute 💛 https://t.co/TP0Xm1CNpi            0\n",
       "4      Join @GuyRyder, @ilo Director-General, Catheri...            0\n",
       "...                                                  ...          ...\n",
       "43404  #NewProfilePic Beyond stoked to be able to joi...            0\n",
       "43405  @Merrion I am in no way lambasting it - please...            0\n",
       "43406  AC/DC - Live Wire (1979 Paris) https://t.co/X5...            0\n",
       "43407  .@TNX_Official's '비켜' second MV teaser, has su...            0\n",
       "43408  and knowing that they actually watch kdramas.....            0\n",
       "\n",
       "[43409 rows x 2 columns]"
      ]
     },
     "execution_count": 36,
     "metadata": {},
     "output_type": "execute_result"
    }
   ],
   "source": [
    "df_neutral"
   ]
  },
  {
   "cell_type": "code",
   "execution_count": 37,
   "metadata": {
    "id": "WBZoSZNgTJDj"
   },
   "outputs": [],
   "source": [
    "df = pd.concat([df_anti, df_neutral], ignore_index=True, axis =0)"
   ]
  },
  {
   "cell_type": "code",
   "execution_count": 38,
   "metadata": {
    "colab": {
     "base_uri": "https://localhost:8080/",
     "height": 419
    },
    "id": "3czoqJ5XUNNW",
    "outputId": "e8229aed-80e4-4c00-b7b3-46cdffb8b805",
    "scrolled": true
   },
   "outputs": [
    {
     "data": {
      "text/html": [
       "<div>\n",
       "<style scoped>\n",
       "    .dataframe tbody tr th:only-of-type {\n",
       "        vertical-align: middle;\n",
       "    }\n",
       "\n",
       "    .dataframe tbody tr th {\n",
       "        vertical-align: top;\n",
       "    }\n",
       "\n",
       "    .dataframe thead th {\n",
       "        text-align: right;\n",
       "    }\n",
       "</style>\n",
       "<table border=\"1\" class=\"dataframe\">\n",
       "  <thead>\n",
       "    <tr style=\"text-align: right;\">\n",
       "      <th></th>\n",
       "      <th>tweet</th>\n",
       "      <th>anti-Israel</th>\n",
       "    </tr>\n",
       "  </thead>\n",
       "  <tbody>\n",
       "    <tr>\n",
       "      <th>0</th>\n",
       "      <td>What a joke…talk about twisting history\\nDeath...</td>\n",
       "      <td>1</td>\n",
       "    </tr>\n",
       "    <tr>\n",
       "      <th>1</th>\n",
       "      <td>A completely unprovoked attack on #SaveSheikhJ...</td>\n",
       "      <td>1</td>\n",
       "    </tr>\n",
       "    <tr>\n",
       "      <th>2</th>\n",
       "      <td>#BDS Pressure Works!\\n\\n@HP-branded companies ...</td>\n",
       "      <td>1</td>\n",
       "    </tr>\n",
       "    <tr>\n",
       "      <th>3</th>\n",
       "      <td>@mishtal Amnesty International is not mistaken...</td>\n",
       "      <td>1</td>\n",
       "    </tr>\n",
       "    <tr>\n",
       "      <th>4</th>\n",
       "      <td>2 years since Eyad Al-Hallaq was murdered by a...</td>\n",
       "      <td>1</td>\n",
       "    </tr>\n",
       "    <tr>\n",
       "      <th>...</th>\n",
       "      <td>...</td>\n",
       "      <td>...</td>\n",
       "    </tr>\n",
       "    <tr>\n",
       "      <th>109011</th>\n",
       "      <td>#NewProfilePic Beyond stoked to be able to joi...</td>\n",
       "      <td>0</td>\n",
       "    </tr>\n",
       "    <tr>\n",
       "      <th>109012</th>\n",
       "      <td>@Merrion I am in no way lambasting it - please...</td>\n",
       "      <td>0</td>\n",
       "    </tr>\n",
       "    <tr>\n",
       "      <th>109013</th>\n",
       "      <td>AC/DC - Live Wire (1979 Paris) https://t.co/X5...</td>\n",
       "      <td>0</td>\n",
       "    </tr>\n",
       "    <tr>\n",
       "      <th>109014</th>\n",
       "      <td>.@TNX_Official's '비켜' second MV teaser, has su...</td>\n",
       "      <td>0</td>\n",
       "    </tr>\n",
       "    <tr>\n",
       "      <th>109015</th>\n",
       "      <td>and knowing that they actually watch kdramas.....</td>\n",
       "      <td>0</td>\n",
       "    </tr>\n",
       "  </tbody>\n",
       "</table>\n",
       "<p>109016 rows × 2 columns</p>\n",
       "</div>"
      ],
      "text/plain": [
       "                                                    tweet  anti-Israel\n",
       "0       What a joke…talk about twisting history\\nDeath...            1\n",
       "1       A completely unprovoked attack on #SaveSheikhJ...            1\n",
       "2       #BDS Pressure Works!\\n\\n@HP-branded companies ...            1\n",
       "3       @mishtal Amnesty International is not mistaken...            1\n",
       "4       2 years since Eyad Al-Hallaq was murdered by a...            1\n",
       "...                                                   ...          ...\n",
       "109011  #NewProfilePic Beyond stoked to be able to joi...            0\n",
       "109012  @Merrion I am in no way lambasting it - please...            0\n",
       "109013  AC/DC - Live Wire (1979 Paris) https://t.co/X5...            0\n",
       "109014  .@TNX_Official's '비켜' second MV teaser, has su...            0\n",
       "109015  and knowing that they actually watch kdramas.....            0\n",
       "\n",
       "[109016 rows x 2 columns]"
      ]
     },
     "execution_count": 38,
     "metadata": {},
     "output_type": "execute_result"
    }
   ],
   "source": [
    "# our final dataset\n",
    "df"
   ]
  },
  {
   "cell_type": "markdown",
   "metadata": {},
   "source": [
    "## 1)b Unbalanced dataset"
   ]
  },
  {
   "cell_type": "code",
   "execution_count": 39,
   "metadata": {},
   "outputs": [
    {
     "data": {
      "image/png": "[encoded data removed]",
      "text/plain": [
       "<Figure size 432x288 with 1 Axes>"
      ]
     },
     "metadata": {
      "needs_background": "light"
     },
     "output_type": "display_data"
    }
   ],
   "source": [
    "vc = df['anti-Israel'].value_counts()\n",
    "plt.bar((vc.index).astype('str'), vc)\n",
    "plt.ylabel('count')\n",
    "plt.xlabel('Anti-Israel tweet')\n",
    "plt.title('Tweets distribution')\n",
    "plt.show()"
   ]
  },
  {
   "cell_type": "markdown",
   "metadata": {},
   "source": [
    "We have an ubalance dataset, we will duplicate some rows of no-anti-Israel tweets in order to have a balance dataset"
   ]
  },
  {
   "cell_type": "code",
   "execution_count": 40,
   "metadata": {},
   "outputs": [
    {
     "data": {
      "image/png": "[encoded data removed]",
      "text/plain": [
       "<Figure size 432x288 with 1 Axes>"
      ]
     },
     "metadata": {
      "needs_background": "light"
     },
     "output_type": "display_data"
    }
   ],
   "source": [
    "df = pd.concat([df_anti, df_neutral, df_neutral.sample(20000)], ignore_index=True, axis =0)\n",
    "\n",
    "vc = df['anti-Israel'].value_counts()\n",
    "plt.bar((vc.index).astype('str'), vc)\n",
    "plt.ylabel('count')\n",
    "plt.xlabel('Anti-Israel tweet')\n",
    "plt.title('Tweets distribution after rebalance')\n",
    "plt.show()"
   ]
  },
  {
   "cell_type": "markdown",
   "metadata": {
    "id": "gq4r06MpmbQ1"
   },
   "source": [
    "## 2) Data Preprocessing \n"
   ]
  },
  {
   "cell_type": "code",
   "execution_count": 41,
   "metadata": {
    "id": "QjhG8_xplSIe"
   },
   "outputs": [],
   "source": [
    "# drop all incomplete tweets (finish with …)\n",
    "t = df.tweet.map(lambda x:x[-1]=='…')\n",
    "df = df.drop(t[t].index, axis=0)"
   ]
  },
  {
   "cell_type": "code",
   "execution_count": 42,
   "metadata": {
    "colab": {
     "base_uri": "https://localhost:8080/",
     "height": 419
    },
    "id": "3sbXO7cKlvoF",
    "outputId": "ea540d44-3dc6-499a-bc08-e0ceac319293"
   },
   "outputs": [
    {
     "data": {
      "text/html": [
       "<div>\n",
       "<style scoped>\n",
       "    .dataframe tbody tr th:only-of-type {\n",
       "        vertical-align: middle;\n",
       "    }\n",
       "\n",
       "    .dataframe tbody tr th {\n",
       "        vertical-align: top;\n",
       "    }\n",
       "\n",
       "    .dataframe thead th {\n",
       "        text-align: right;\n",
       "    }\n",
       "</style>\n",
       "<table border=\"1\" class=\"dataframe\">\n",
       "  <thead>\n",
       "    <tr style=\"text-align: right;\">\n",
       "      <th></th>\n",
       "      <th>tweet</th>\n",
       "      <th>anti-Israel</th>\n",
       "    </tr>\n",
       "  </thead>\n",
       "  <tbody>\n",
       "    <tr>\n",
       "      <th>0</th>\n",
       "      <td>What a joke…talk about twisting history\\nDeath...</td>\n",
       "      <td>1</td>\n",
       "    </tr>\n",
       "    <tr>\n",
       "      <th>1</th>\n",
       "      <td>A completely unprovoked attack on #SaveSheikhJ...</td>\n",
       "      <td>1</td>\n",
       "    </tr>\n",
       "    <tr>\n",
       "      <th>2</th>\n",
       "      <td>#BDS Pressure Works!\\n\\n@HP-branded companies ...</td>\n",
       "      <td>1</td>\n",
       "    </tr>\n",
       "    <tr>\n",
       "      <th>3</th>\n",
       "      <td>@mishtal Amnesty International is not mistaken...</td>\n",
       "      <td>1</td>\n",
       "    </tr>\n",
       "    <tr>\n",
       "      <th>4</th>\n",
       "      <td>2 years since Eyad Al-Hallaq was murdered by a...</td>\n",
       "      <td>1</td>\n",
       "    </tr>\n",
       "    <tr>\n",
       "      <th>...</th>\n",
       "      <td>...</td>\n",
       "      <td>...</td>\n",
       "    </tr>\n",
       "    <tr>\n",
       "      <th>107046</th>\n",
       "      <td>Shiv.inrudra ... priy_ank1802 \\n\\nId account h...</td>\n",
       "      <td>0</td>\n",
       "    </tr>\n",
       "    <tr>\n",
       "      <th>107047</th>\n",
       "      <td>Doha is so cute  🥹 https://t.co/16bScuCDQ2</td>\n",
       "      <td>0</td>\n",
       "    </tr>\n",
       "    <tr>\n",
       "      <th>107048</th>\n",
       "      <td>Subtle mistakes felt like life or death</td>\n",
       "      <td>0</td>\n",
       "    </tr>\n",
       "    <tr>\n",
       "      <th>107049</th>\n",
       "      <td>@adamdovico I love that.  You can hand him thi...</td>\n",
       "      <td>0</td>\n",
       "    </tr>\n",
       "    <tr>\n",
       "      <th>107050</th>\n",
       "      <td>whenever people are like \"bloober team aren't ...</td>\n",
       "      <td>0</td>\n",
       "    </tr>\n",
       "  </tbody>\n",
       "</table>\n",
       "<p>107051 rows × 2 columns</p>\n",
       "</div>"
      ],
      "text/plain": [
       "                                                    tweet  anti-Israel\n",
       "0       What a joke…talk about twisting history\\nDeath...            1\n",
       "1       A completely unprovoked attack on #SaveSheikhJ...            1\n",
       "2       #BDS Pressure Works!\\n\\n@HP-branded companies ...            1\n",
       "3       @mishtal Amnesty International is not mistaken...            1\n",
       "4       2 years since Eyad Al-Hallaq was murdered by a...            1\n",
       "...                                                   ...          ...\n",
       "107046  Shiv.inrudra ... priy_ank1802 \\n\\nId account h...            0\n",
       "107047         Doha is so cute  🥹 https://t.co/16bScuCDQ2            0\n",
       "107048            Subtle mistakes felt like life or death            0\n",
       "107049  @adamdovico I love that.  You can hand him thi...            0\n",
       "107050  whenever people are like \"bloober team aren't ...            0\n",
       "\n",
       "[107051 rows x 2 columns]"
      ]
     },
     "execution_count": 42,
     "metadata": {},
     "output_type": "execute_result"
    }
   ],
   "source": [
    "df  = df.reset_index(drop=True)\n",
    "df"
   ]
  },
  {
   "cell_type": "code",
   "execution_count": 43,
   "metadata": {
    "id": "e4kACiMbQKBt"
   },
   "outputs": [],
   "source": [
    "# Set of the specifics char and stop words to drop\n",
    "SET_SPE_CHAR = (\n",
    "    set(string.punctuation)\n",
    "    | set(stopwords.words(\"english\")) | {'amp','let','need', 'one', 'day', 'year', 'people', 'like',\\\n",
    "                                         'night', 'today', 'must', 'get', 'now', 'make', 'want', 'another',\\\n",
    "                                        'time', 'never', 'even', 'say', 'know'}\n",
    ")"
   ]
  },
  {
   "cell_type": "code",
   "execution_count": 44,
   "metadata": {
    "id": "1e33_vg7RXNz"
   },
   "outputs": [],
   "source": [
    "def clean_text(text):\n",
    "    \"\"\"\n",
    "    This function takes a string and returns the string without:\n",
    "    url / hashtags /linebreaks / mame started by @ / numbers\n",
    "    \"\"\"\n",
    "    text = text.lower()\n",
    "    text = re.sub(r\"((http://)[^ ]*|(https://)[^ ]*|( www\\.)[^ ]*)\", \" \", text)\n",
    "    text = re.sub(r'@\\S+', ' ',text)\n",
    "    text = re.sub(r'#\\w+', ' ',text)\n",
    "    text = re.sub(r'\\d+', '',text)\n",
    "    text = re.sub(r'[\\r\\n]+', ' ',text)\n",
    "    text = text.replace(\"\\\\n\", \" \")\n",
    "    # text = re.sub(r\"(#\\w+){2,}\", \" \", text)\n",
    "    return text"
   ]
  },
  {
   "cell_type": "code",
   "execution_count": 45,
   "metadata": {
    "id": "DW5ehAAnSLHe"
   },
   "outputs": [],
   "source": [
    "def existing_word(word):\n",
    "    \"\"\"\n",
    "    This function takes a string\n",
    "    Return lemmatize string if it is in our vocabulary sets and len>1\n",
    "    else None\n",
    "    \"\"\"\n",
    "    lemmatizer=WordNetLemmatizer()\n",
    "    lem_word = lemmatizer.lemmatize(word)\n",
    "    if (wordnet.synsets(lem_word) != []) and len(lem_word)>1:\n",
    "        return lem_word\n",
    "    return None"
   ]
  },
  {
   "cell_type": "code",
   "execution_count": 46,
   "metadata": {
    "id": "9OE-YqsUoZik"
   },
   "outputs": [],
   "source": [
    "def plot_dic(dic, title='title'):\n",
    "    \"\"\"\n",
    "    This function takes a dictionnary with words as key and a number(count or frequency) as value, \n",
    "    a string title and a number k \n",
    "    and plots an histogram of k words with the highest value in desc order\n",
    "    \"\"\"\n",
    "    pd.DataFrame.from_dict(dict(zip(list(dic.keys()), list(dic.values()))), orient=\"index\").plot(\n",
    "    kind=\"bar\", figsize=(18, 7))\n",
    "    plt.ylabel(title)\n",
    "    plt.title(title)\n",
    "    plt.show()"
   ]
  },
  {
   "cell_type": "code",
   "execution_count": 47,
   "metadata": {
    "id": "u6Cjwsloopbg"
   },
   "outputs": [],
   "source": [
    "def serie_counter(df_column):\n",
    "    \"\"\"\n",
    "    This function takes a dataframe column of list of columns, aggragate all list\n",
    "    and return a counter dic of the words\n",
    "    \"\"\"\n",
    "    token_list = list(chain.from_iterable(df_column.values))\n",
    "    print(len(set(token_list)))\n",
    "\n",
    "    return Counter(token_list)"
   ]
  },
  {
   "cell_type": "code",
   "execution_count": 48,
   "metadata": {
    "id": "MiyrtzWhWvKA"
   },
   "outputs": [],
   "source": [
    "df['clean_tweet'] = df['tweet'].apply(clean_text)\n",
    "df[\"token\"] = df[\"clean_tweet\"].apply(word_tokenize)"
   ]
  },
  {
   "cell_type": "code",
   "execution_count": 49,
   "metadata": {
    "id": "wU6bNv0beZWU"
   },
   "outputs": [],
   "source": [
    "df['hashtags'] = df['tweet'].map(lambda tweet: re.findall(r\"#(\\w+)\", tweet))\n",
    "df['nb_hashtags'] = df['hashtags'].map(lambda lst: len(lst))"
   ]
  },
  {
   "cell_type": "code",
   "execution_count": 50,
   "metadata": {
    "colab": {
     "base_uri": "https://localhost:8080/",
     "height": 350
    },
    "id": "_HjvRyNJgxwB",
    "outputId": "0e67dafc-a43c-4029-9762-d9635fc94abf"
   },
   "outputs": [
    {
     "data": {
      "text/html": [
       "<div>\n",
       "<style scoped>\n",
       "    .dataframe tbody tr th:only-of-type {\n",
       "        vertical-align: middle;\n",
       "    }\n",
       "\n",
       "    .dataframe tbody tr th {\n",
       "        vertical-align: top;\n",
       "    }\n",
       "\n",
       "    .dataframe thead th {\n",
       "        text-align: right;\n",
       "    }\n",
       "</style>\n",
       "<table border=\"1\" class=\"dataframe\">\n",
       "  <thead>\n",
       "    <tr style=\"text-align: right;\">\n",
       "      <th></th>\n",
       "      <th>tweet</th>\n",
       "      <th>anti-Israel</th>\n",
       "      <th>clean_tweet</th>\n",
       "      <th>token</th>\n",
       "      <th>hashtags</th>\n",
       "      <th>nb_hashtags</th>\n",
       "    </tr>\n",
       "  </thead>\n",
       "  <tbody>\n",
       "    <tr>\n",
       "      <th>0</th>\n",
       "      <td>What a joke…talk about twisting history\\nDeath...</td>\n",
       "      <td>1</td>\n",
       "      <td>what a joke…talk about twisting history death ...</td>\n",
       "      <td>[what, a, joke…talk, about, twisting, history,...</td>\n",
       "      <td>[FreePalestine, ICC4Israel, BDS]</td>\n",
       "      <td>3</td>\n",
       "    </tr>\n",
       "    <tr>\n",
       "      <th>1</th>\n",
       "      <td>A completely unprovoked attack on #SaveSheikhJ...</td>\n",
       "      <td>1</td>\n",
       "      <td>a completely unprovoked attack on   yesterday ...</td>\n",
       "      <td>[a, completely, unprovoked, attack, on, yester...</td>\n",
       "      <td>[SaveSheikhJarrah, ApartheidIsrael, Israeli, t...</td>\n",
       "      <td>4</td>\n",
       "    </tr>\n",
       "    <tr>\n",
       "      <th>2</th>\n",
       "      <td>#BDS Pressure Works!\\n\\n@HP-branded companies ...</td>\n",
       "      <td>1</td>\n",
       "      <td>pressure works!   companies end major contra...</td>\n",
       "      <td>[pressure, works, !, companies, end, major, co...</td>\n",
       "      <td>[BDS]</td>\n",
       "      <td>1</td>\n",
       "    </tr>\n",
       "    <tr>\n",
       "      <th>3</th>\n",
       "      <td>@mishtal Amnesty International is not mistaken...</td>\n",
       "      <td>1</td>\n",
       "      <td>amnesty international is not mistaken, amnes...</td>\n",
       "      <td>[amnesty, international, is, not, mistaken, ,,...</td>\n",
       "      <td>[FreePalestine, BoycottIsrael]</td>\n",
       "      <td>2</td>\n",
       "    </tr>\n",
       "    <tr>\n",
       "      <th>4</th>\n",
       "      <td>2 years since Eyad Al-Hallaq was murdered by a...</td>\n",
       "      <td>1</td>\n",
       "      <td>years since eyad al-hallaq was murdered by a ...</td>\n",
       "      <td>[years, since, eyad, al-hallaq, was, murdered,...</td>\n",
       "      <td>[EndIsraeliApartheid]</td>\n",
       "      <td>1</td>\n",
       "    </tr>\n",
       "  </tbody>\n",
       "</table>\n",
       "</div>"
      ],
      "text/plain": [
       "                                               tweet  anti-Israel  \\\n",
       "0  What a joke…talk about twisting history\\nDeath...            1   \n",
       "1  A completely unprovoked attack on #SaveSheikhJ...            1   \n",
       "2  #BDS Pressure Works!\\n\\n@HP-branded companies ...            1   \n",
       "3  @mishtal Amnesty International is not mistaken...            1   \n",
       "4  2 years since Eyad Al-Hallaq was murdered by a...            1   \n",
       "\n",
       "                                         clean_tweet  \\\n",
       "0  what a joke…talk about twisting history death ...   \n",
       "1  a completely unprovoked attack on   yesterday ...   \n",
       "2    pressure works!   companies end major contra...   \n",
       "3    amnesty international is not mistaken, amnes...   \n",
       "4   years since eyad al-hallaq was murdered by a ...   \n",
       "\n",
       "                                               token  \\\n",
       "0  [what, a, joke…talk, about, twisting, history,...   \n",
       "1  [a, completely, unprovoked, attack, on, yester...   \n",
       "2  [pressure, works, !, companies, end, major, co...   \n",
       "3  [amnesty, international, is, not, mistaken, ,,...   \n",
       "4  [years, since, eyad, al-hallaq, was, murdered,...   \n",
       "\n",
       "                                            hashtags  nb_hashtags  \n",
       "0                   [FreePalestine, ICC4Israel, BDS]            3  \n",
       "1  [SaveSheikhJarrah, ApartheidIsrael, Israeli, t...            4  \n",
       "2                                              [BDS]            1  \n",
       "3                     [FreePalestine, BoycottIsrael]            2  \n",
       "4                              [EndIsraeliApartheid]            1  "
      ]
     },
     "execution_count": 50,
     "metadata": {},
     "output_type": "execute_result"
    }
   ],
   "source": [
    "df.head()"
   ]
  },
  {
   "cell_type": "code",
   "execution_count": 51,
   "metadata": {
    "colab": {
     "base_uri": "https://localhost:8080/",
     "height": 49
    },
    "id": "Bg2olAfqhpTO",
    "outputId": "9effaf37-faef-4c37-bd58-a3ea5cac994e"
   },
   "outputs": [
    {
     "data": {
      "text/html": [
       "<div>\n",
       "<style scoped>\n",
       "    .dataframe tbody tr th:only-of-type {\n",
       "        vertical-align: middle;\n",
       "    }\n",
       "\n",
       "    .dataframe tbody tr th {\n",
       "        vertical-align: top;\n",
       "    }\n",
       "\n",
       "    .dataframe thead th {\n",
       "        text-align: right;\n",
       "    }\n",
       "</style>\n",
       "<table border=\"1\" class=\"dataframe\">\n",
       "  <thead>\n",
       "    <tr style=\"text-align: right;\">\n",
       "      <th></th>\n",
       "      <th>tweet</th>\n",
       "      <th>anti-Israel</th>\n",
       "      <th>clean_tweet</th>\n",
       "      <th>token</th>\n",
       "      <th>hashtags</th>\n",
       "      <th>nb_hashtags</th>\n",
       "    </tr>\n",
       "  </thead>\n",
       "  <tbody>\n",
       "  </tbody>\n",
       "</table>\n",
       "</div>"
      ],
      "text/plain": [
       "Empty DataFrame\n",
       "Columns: [tweet, anti-Israel, clean_tweet, token, hashtags, nb_hashtags]\n",
       "Index: []"
      ]
     },
     "execution_count": 51,
     "metadata": {},
     "output_type": "execute_result"
    }
   ],
   "source": [
    "df.loc[(df.nb_hashtags == 0) & (df['anti-Israel']==1)]"
   ]
  },
  {
   "cell_type": "code",
   "execution_count": 52,
   "metadata": {
    "id": "EastQxFoYUoT"
   },
   "outputs": [],
   "source": [
    "df[\"clean_token\"] = df[\"token\"].map(\n",
    "    lambda lst: [\n",
    "        existing_word(tk)\n",
    "        for tk in lst\n",
    "        if tk not in SET_SPE_CHAR and existing_word(tk) != None\n",
    "    ]\n",
    ")\n",
    "\n",
    "\n",
    "df[\"nb_clean_token\"] = df[\"clean_token\"].map(lambda lst: len(lst))"
   ]
  },
  {
   "cell_type": "code",
   "execution_count": 53,
   "metadata": {},
   "outputs": [],
   "source": [
    "df[\"nb_clean_token\"] = df[\"clean_token\"].map(lambda lst: len(lst))"
   ]
  },
  {
   "cell_type": "code",
   "execution_count": 54,
   "metadata": {
    "colab": {
     "base_uri": "https://localhost:8080/",
     "height": 350
    },
    "id": "FTNUGeteZBgZ",
    "outputId": "76170ef3-bc4f-4580-b7a4-96c2a4771309"
   },
   "outputs": [
    {
     "data": {
      "text/html": [
       "<div>\n",
       "<style scoped>\n",
       "    .dataframe tbody tr th:only-of-type {\n",
       "        vertical-align: middle;\n",
       "    }\n",
       "\n",
       "    .dataframe tbody tr th {\n",
       "        vertical-align: top;\n",
       "    }\n",
       "\n",
       "    .dataframe thead th {\n",
       "        text-align: right;\n",
       "    }\n",
       "</style>\n",
       "<table border=\"1\" class=\"dataframe\">\n",
       "  <thead>\n",
       "    <tr style=\"text-align: right;\">\n",
       "      <th></th>\n",
       "      <th>tweet</th>\n",
       "      <th>anti-Israel</th>\n",
       "      <th>clean_tweet</th>\n",
       "      <th>token</th>\n",
       "      <th>hashtags</th>\n",
       "      <th>nb_hashtags</th>\n",
       "      <th>clean_token</th>\n",
       "      <th>nb_clean_token</th>\n",
       "    </tr>\n",
       "  </thead>\n",
       "  <tbody>\n",
       "    <tr>\n",
       "      <th>0</th>\n",
       "      <td>What a joke…talk about twisting history\\nDeath...</td>\n",
       "      <td>1</td>\n",
       "      <td>what a joke…talk about twisting history death ...</td>\n",
       "      <td>[what, a, joke…talk, about, twisting, history,...</td>\n",
       "      <td>[FreePalestine, ICC4Israel, BDS]</td>\n",
       "      <td>3</td>\n",
       "      <td>[twisting, history, death, thousand, cut, exac...</td>\n",
       "      <td>13</td>\n",
       "    </tr>\n",
       "    <tr>\n",
       "      <th>1</th>\n",
       "      <td>A completely unprovoked attack on #SaveSheikhJ...</td>\n",
       "      <td>1</td>\n",
       "      <td>a completely unprovoked attack on   yesterday ...</td>\n",
       "      <td>[a, completely, unprovoked, attack, on, yester...</td>\n",
       "      <td>[SaveSheikhJarrah, ApartheidIsrael, Israeli, t...</td>\n",
       "      <td>4</td>\n",
       "      <td>[completely, unprovoked, attack, yesterday, sc...</td>\n",
       "      <td>15</td>\n",
       "    </tr>\n",
       "    <tr>\n",
       "      <th>2</th>\n",
       "      <td>#BDS Pressure Works!\\n\\n@HP-branded companies ...</td>\n",
       "      <td>1</td>\n",
       "      <td>pressure works!   companies end major contra...</td>\n",
       "      <td>[pressure, works, !, companies, end, major, co...</td>\n",
       "      <td>[BDS]</td>\n",
       "      <td>1</td>\n",
       "      <td>[pressure, work, company, end, major, contract...</td>\n",
       "      <td>21</td>\n",
       "    </tr>\n",
       "    <tr>\n",
       "      <th>3</th>\n",
       "      <td>@mishtal Amnesty International is not mistaken...</td>\n",
       "      <td>1</td>\n",
       "      <td>amnesty international is not mistaken, amnes...</td>\n",
       "      <td>[amnesty, international, is, not, mistaken, ,,...</td>\n",
       "      <td>[FreePalestine, BoycottIsrael]</td>\n",
       "      <td>2</td>\n",
       "      <td>[amnesty, international, mistaken, amnesty, de...</td>\n",
       "      <td>15</td>\n",
       "    </tr>\n",
       "    <tr>\n",
       "      <th>4</th>\n",
       "      <td>2 years since Eyad Al-Hallaq was murdered by a...</td>\n",
       "      <td>1</td>\n",
       "      <td>years since eyad al-hallaq was murdered by a ...</td>\n",
       "      <td>[years, since, eyad, al-hallaq, was, murdered,...</td>\n",
       "      <td>[EndIsraeliApartheid]</td>\n",
       "      <td>1</td>\n",
       "      <td>[year, murdered, old, israeli, police, officer...</td>\n",
       "      <td>17</td>\n",
       "    </tr>\n",
       "  </tbody>\n",
       "</table>\n",
       "</div>"
      ],
      "text/plain": [
       "                                               tweet  anti-Israel  \\\n",
       "0  What a joke…talk about twisting history\\nDeath...            1   \n",
       "1  A completely unprovoked attack on #SaveSheikhJ...            1   \n",
       "2  #BDS Pressure Works!\\n\\n@HP-branded companies ...            1   \n",
       "3  @mishtal Amnesty International is not mistaken...            1   \n",
       "4  2 years since Eyad Al-Hallaq was murdered by a...            1   \n",
       "\n",
       "                                         clean_tweet  \\\n",
       "0  what a joke…talk about twisting history death ...   \n",
       "1  a completely unprovoked attack on   yesterday ...   \n",
       "2    pressure works!   companies end major contra...   \n",
       "3    amnesty international is not mistaken, amnes...   \n",
       "4   years since eyad al-hallaq was murdered by a ...   \n",
       "\n",
       "                                               token  \\\n",
       "0  [what, a, joke…talk, about, twisting, history,...   \n",
       "1  [a, completely, unprovoked, attack, on, yester...   \n",
       "2  [pressure, works, !, companies, end, major, co...   \n",
       "3  [amnesty, international, is, not, mistaken, ,,...   \n",
       "4  [years, since, eyad, al-hallaq, was, murdered,...   \n",
       "\n",
       "                                            hashtags  nb_hashtags  \\\n",
       "0                   [FreePalestine, ICC4Israel, BDS]            3   \n",
       "1  [SaveSheikhJarrah, ApartheidIsrael, Israeli, t...            4   \n",
       "2                                              [BDS]            1   \n",
       "3                     [FreePalestine, BoycottIsrael]            2   \n",
       "4                              [EndIsraeliApartheid]            1   \n",
       "\n",
       "                                         clean_token  nb_clean_token  \n",
       "0  [twisting, history, death, thousand, cut, exac...              13  \n",
       "1  [completely, unprovoked, attack, yesterday, sc...              15  \n",
       "2  [pressure, work, company, end, major, contract...              21  \n",
       "3  [amnesty, international, mistaken, amnesty, de...              15  \n",
       "4  [year, murdered, old, israeli, police, officer...              17  "
      ]
     },
     "execution_count": 54,
     "metadata": {},
     "output_type": "execute_result"
    }
   ],
   "source": [
    "df.head()"
   ]
  },
  {
   "cell_type": "code",
   "execution_count": 55,
   "metadata": {
    "id": "Pmyp860dZSHx"
   },
   "outputs": [],
   "source": [
    "df['clean_token_hashtags'] = df['hashtags'] + df['clean_token']"
   ]
  },
  {
   "cell_type": "code",
   "execution_count": 56,
   "metadata": {
    "colab": {
     "base_uri": "https://localhost:8080/",
     "height": 435
    },
    "id": "oCNuBVo_p0OV",
    "outputId": "def8f669-6e54-49cb-d5a0-df4d548fc841"
   },
   "outputs": [
    {
     "data": {
      "text/html": [
       "<div>\n",
       "<style scoped>\n",
       "    .dataframe tbody tr th:only-of-type {\n",
       "        vertical-align: middle;\n",
       "    }\n",
       "\n",
       "    .dataframe tbody tr th {\n",
       "        vertical-align: top;\n",
       "    }\n",
       "\n",
       "    .dataframe thead th {\n",
       "        text-align: right;\n",
       "    }\n",
       "</style>\n",
       "<table border=\"1\" class=\"dataframe\">\n",
       "  <thead>\n",
       "    <tr style=\"text-align: right;\">\n",
       "      <th></th>\n",
       "      <th>tweet</th>\n",
       "      <th>anti-Israel</th>\n",
       "      <th>clean_tweet</th>\n",
       "      <th>token</th>\n",
       "      <th>hashtags</th>\n",
       "      <th>nb_hashtags</th>\n",
       "      <th>clean_token</th>\n",
       "      <th>nb_clean_token</th>\n",
       "      <th>clean_token_hashtags</th>\n",
       "    </tr>\n",
       "  </thead>\n",
       "  <tbody>\n",
       "    <tr>\n",
       "      <th>0</th>\n",
       "      <td>What a joke…talk about twisting history\\nDeath...</td>\n",
       "      <td>1</td>\n",
       "      <td>what a joke…talk about twisting history death ...</td>\n",
       "      <td>[what, a, joke…talk, about, twisting, history,...</td>\n",
       "      <td>[FreePalestine, ICC4Israel, BDS]</td>\n",
       "      <td>3</td>\n",
       "      <td>[twisting, history, death, thousand, cut, exac...</td>\n",
       "      <td>13</td>\n",
       "      <td>[FreePalestine, ICC4Israel, BDS, twisting, his...</td>\n",
       "    </tr>\n",
       "    <tr>\n",
       "      <th>1</th>\n",
       "      <td>A completely unprovoked attack on #SaveSheikhJ...</td>\n",
       "      <td>1</td>\n",
       "      <td>a completely unprovoked attack on   yesterday ...</td>\n",
       "      <td>[a, completely, unprovoked, attack, on, yester...</td>\n",
       "      <td>[SaveSheikhJarrah, ApartheidIsrael, Israeli, t...</td>\n",
       "      <td>4</td>\n",
       "      <td>[completely, unprovoked, attack, yesterday, sc...</td>\n",
       "      <td>15</td>\n",
       "      <td>[SaveSheikhJarrah, ApartheidIsrael, Israeli, t...</td>\n",
       "    </tr>\n",
       "    <tr>\n",
       "      <th>2</th>\n",
       "      <td>#BDS Pressure Works!\\n\\n@HP-branded companies ...</td>\n",
       "      <td>1</td>\n",
       "      <td>pressure works!   companies end major contra...</td>\n",
       "      <td>[pressure, works, !, companies, end, major, co...</td>\n",
       "      <td>[BDS]</td>\n",
       "      <td>1</td>\n",
       "      <td>[pressure, work, company, end, major, contract...</td>\n",
       "      <td>21</td>\n",
       "      <td>[BDS, pressure, work, company, end, major, con...</td>\n",
       "    </tr>\n",
       "    <tr>\n",
       "      <th>3</th>\n",
       "      <td>@mishtal Amnesty International is not mistaken...</td>\n",
       "      <td>1</td>\n",
       "      <td>amnesty international is not mistaken, amnes...</td>\n",
       "      <td>[amnesty, international, is, not, mistaken, ,,...</td>\n",
       "      <td>[FreePalestine, BoycottIsrael]</td>\n",
       "      <td>2</td>\n",
       "      <td>[amnesty, international, mistaken, amnesty, de...</td>\n",
       "      <td>15</td>\n",
       "      <td>[FreePalestine, BoycottIsrael, amnesty, intern...</td>\n",
       "    </tr>\n",
       "    <tr>\n",
       "      <th>4</th>\n",
       "      <td>2 years since Eyad Al-Hallaq was murdered by a...</td>\n",
       "      <td>1</td>\n",
       "      <td>years since eyad al-hallaq was murdered by a ...</td>\n",
       "      <td>[years, since, eyad, al-hallaq, was, murdered,...</td>\n",
       "      <td>[EndIsraeliApartheid]</td>\n",
       "      <td>1</td>\n",
       "      <td>[year, murdered, old, israeli, police, officer...</td>\n",
       "      <td>17</td>\n",
       "      <td>[EndIsraeliApartheid, year, murdered, old, isr...</td>\n",
       "    </tr>\n",
       "  </tbody>\n",
       "</table>\n",
       "</div>"
      ],
      "text/plain": [
       "                                               tweet  anti-Israel  \\\n",
       "0  What a joke…talk about twisting history\\nDeath...            1   \n",
       "1  A completely unprovoked attack on #SaveSheikhJ...            1   \n",
       "2  #BDS Pressure Works!\\n\\n@HP-branded companies ...            1   \n",
       "3  @mishtal Amnesty International is not mistaken...            1   \n",
       "4  2 years since Eyad Al-Hallaq was murdered by a...            1   \n",
       "\n",
       "                                         clean_tweet  \\\n",
       "0  what a joke…talk about twisting history death ...   \n",
       "1  a completely unprovoked attack on   yesterday ...   \n",
       "2    pressure works!   companies end major contra...   \n",
       "3    amnesty international is not mistaken, amnes...   \n",
       "4   years since eyad al-hallaq was murdered by a ...   \n",
       "\n",
       "                                               token  \\\n",
       "0  [what, a, joke…talk, about, twisting, history,...   \n",
       "1  [a, completely, unprovoked, attack, on, yester...   \n",
       "2  [pressure, works, !, companies, end, major, co...   \n",
       "3  [amnesty, international, is, not, mistaken, ,,...   \n",
       "4  [years, since, eyad, al-hallaq, was, murdered,...   \n",
       "\n",
       "                                            hashtags  nb_hashtags  \\\n",
       "0                   [FreePalestine, ICC4Israel, BDS]            3   \n",
       "1  [SaveSheikhJarrah, ApartheidIsrael, Israeli, t...            4   \n",
       "2                                              [BDS]            1   \n",
       "3                     [FreePalestine, BoycottIsrael]            2   \n",
       "4                              [EndIsraeliApartheid]            1   \n",
       "\n",
       "                                         clean_token  nb_clean_token  \\\n",
       "0  [twisting, history, death, thousand, cut, exac...              13   \n",
       "1  [completely, unprovoked, attack, yesterday, sc...              15   \n",
       "2  [pressure, work, company, end, major, contract...              21   \n",
       "3  [amnesty, international, mistaken, amnesty, de...              15   \n",
       "4  [year, murdered, old, israeli, police, officer...              17   \n",
       "\n",
       "                                clean_token_hashtags  \n",
       "0  [FreePalestine, ICC4Israel, BDS, twisting, his...  \n",
       "1  [SaveSheikhJarrah, ApartheidIsrael, Israeli, t...  \n",
       "2  [BDS, pressure, work, company, end, major, con...  \n",
       "3  [FreePalestine, BoycottIsrael, amnesty, intern...  \n",
       "4  [EndIsraeliApartheid, year, murdered, old, isr...  "
      ]
     },
     "execution_count": 56,
     "metadata": {},
     "output_type": "execute_result"
    }
   ],
   "source": [
    "df.head()"
   ]
  },
  {
   "cell_type": "markdown",
   "metadata": {},
   "source": [
    "## 3) EDA"
   ]
  },
  {
   "cell_type": "markdown",
   "metadata": {},
   "source": [
    "### a) Distribution of token"
   ]
  },
  {
   "cell_type": "code",
   "execution_count": 57,
   "metadata": {},
   "outputs": [
    {
     "name": "stderr",
     "output_type": "stream",
     "text": [
      "C:\\Users\\Noy\\anaconda3\\lib\\site-packages\\seaborn\\distributions.py:2557: FutureWarning: `distplot` is a deprecated function and will be removed in a future version. Please adapt your code to use either `displot` (a figure-level function with similar flexibility) or `histplot` (an axes-level function for histograms).\n",
      "  warnings.warn(msg, FutureWarning)\n",
      "C:\\Users\\Noy\\anaconda3\\lib\\site-packages\\seaborn\\distributions.py:2557: FutureWarning: `distplot` is a deprecated function and will be removed in a future version. Please adapt your code to use either `displot` (a figure-level function with similar flexibility) or `histplot` (an axes-level function for histograms).\n",
      "  warnings.warn(msg, FutureWarning)\n"
     ]
    },
    {
     "data": {
      "image/png": "[encoded data removed]",
      "text/plain": [
       "<Figure size 1080x576 with 1 Axes>"
      ]
     },
     "metadata": {
      "needs_background": "light"
     },
     "output_type": "display_data"
    }
   ],
   "source": [
    "plt.figure(figsize=(15,8))\n",
    "sns.distplot(a=df.loc[df['anti-Israel']==1, \"nb_clean_token\"], label ='anti-Israel')\n",
    "sns.distplot(a=df.loc[df['anti-Israel']==0, \"nb_clean_token\"], label ='Neutral')\n",
    "plt.title('Histogram of number of token by category')\n",
    "plt.legend()\n",
    "plt.show()"
   ]
  },
  {
   "cell_type": "markdown",
   "metadata": {},
   "source": [
    "We can see in our dataset that anti-Israel tweets have more token on average"
   ]
  },
  {
   "cell_type": "markdown",
   "metadata": {},
   "source": [
    "### b) Distribution of number of hastags"
   ]
  },
  {
   "cell_type": "code",
   "execution_count": 58,
   "metadata": {},
   "outputs": [
    {
     "data": {
      "image/png": "[encoded data removed]",
      "text/plain": [
       "<Figure size 1080x432 with 1 Axes>"
      ]
     },
     "metadata": {
      "needs_background": "light"
     },
     "output_type": "display_data"
    }
   ],
   "source": [
    "plt.figure(figsize=(15,6))\n",
    "plt.hist(df.loc[df['anti-Israel']==1, \"nb_hashtags\"], label ='anti-Israel',alpha=0.5)\n",
    "plt.hist(df.loc[df['anti-Israel']==0, \"nb_hashtags\"], label ='Neutral',alpha=0.5)\n",
    "plt.title('Histogram of number of hashtags by category')\n",
    "plt.legend()\n",
    "plt.show()"
   ]
  },
  {
   "cell_type": "markdown",
   "metadata": {},
   "source": [
    "We can see in our dataset that anti-Israel tweets have more hashtags on average"
   ]
  },
  {
   "cell_type": "markdown",
   "metadata": {},
   "source": [
    "### c) Word count with hastags"
   ]
  },
  {
   "cell_type": "code",
   "execution_count": 59,
   "metadata": {},
   "outputs": [
    {
     "name": "stdout",
     "output_type": "stream",
     "text": [
      "30889\n"
     ]
    },
    {
     "data": {
      "image/png": "[encoded data removed]",
      "text/plain": [
       "<Figure size 1296x504 with 1 Axes>"
      ]
     },
     "metadata": {
      "needs_background": "light"
     },
     "output_type": "display_data"
    }
   ],
   "source": [
    "plot_dic(dict(serie_counter(df[\"clean_token_hashtags\"]).most_common(40)), 'Global word count and hashtags')"
   ]
  },
  {
   "cell_type": "markdown",
   "metadata": {},
   "source": [
    "### d) Word count without hastags"
   ]
  },
  {
   "cell_type": "code",
   "execution_count": 60,
   "metadata": {
    "colab": {
     "base_uri": "https://localhost:8080/",
     "height": 507
    },
    "id": "khOSQSSLo4OH",
    "outputId": "74a0fcf5-1aa8-448d-bdbb-68b47592a6f3",
    "scrolled": true
   },
   "outputs": [
    {
     "name": "stdout",
     "output_type": "stream",
     "text": [
      "19027\n"
     ]
    },
    {
     "data": {
      "image/png": "[encoded data removed]",
      "text/plain": [
       "<Figure size 1296x504 with 1 Axes>"
      ]
     },
     "metadata": {
      "needs_background": "light"
     },
     "output_type": "display_data"
    }
   ],
   "source": [
    "plot_dic(dict(serie_counter(df[\"clean_token\"]).most_common(40)), 'Global word count without hashtags')"
   ]
  },
  {
   "cell_type": "markdown",
   "metadata": {
    "id": "BdeHRgUvp3CR"
   },
   "source": [
    "## 4)a Modeling on clean token + hashtags"
   ]
  },
  {
   "cell_type": "code",
   "execution_count": 61,
   "metadata": {
    "id": "gVqKKOuerBXB"
   },
   "outputs": [],
   "source": [
    "X = df.clean_token_hashtags.map(lambda x: (' ').join(x))\n",
    "y = df['anti-Israel']"
   ]
  },
  {
   "cell_type": "code",
   "execution_count": 62,
   "metadata": {
    "id": "SlYZUQjNq8IP"
   },
   "outputs": [],
   "source": [
    "#TFIDF Vectorizer\n",
    "vectorizer = TfidfVectorizer(max_features=500000)\n",
    "\n",
    "#Convert df.txt from text to features\n",
    "X = vectorizer.fit_transform(X)\n",
    "\n",
    "# df['tfidf_Vect'] = list(X.toarray())"
   ]
  },
  {
   "cell_type": "code",
   "execution_count": 63,
   "metadata": {
    "id": "_6FI9LI6r24m"
   },
   "outputs": [],
   "source": [
    "X_train, X_test, y_train, y_test = train_test_split(X, y, random_state = 0)"
   ]
  },
  {
   "cell_type": "code",
   "execution_count": 64,
   "metadata": {
    "colab": {
     "base_uri": "https://localhost:8080/",
     "height": 510
    },
    "id": "HcjcysrespYf",
    "outputId": "b04f0463-69b3-41dd-f641-c1c9e658325c"
   },
   "outputs": [
    {
     "name": "stdout",
     "output_type": "stream",
     "text": [
      "              precision    recall  f1-score   support\n",
      "\n",
      "           0       1.00      0.99      0.99     13020\n",
      "           1       0.99      1.00      0.99     13743\n",
      "\n",
      "    accuracy                           0.99     26763\n",
      "   macro avg       0.99      0.99      0.99     26763\n",
      "weighted avg       0.99      0.99      0.99     26763\n",
      " \n",
      "\n",
      "\n"
     ]
    },
    {
     "data": {
      "image/png": "[encoded data removed]",
      "text/plain": [
       "<Figure size 432x288 with 2 Axes>"
      ]
     },
     "metadata": {
      "needs_background": "light"
     },
     "output_type": "display_data"
    }
   ],
   "source": [
    "BNBmodel = BernoulliNB()\n",
    "BNBmodel.fit(X_train, y_train)\n",
    "y_pred = BNBmodel.predict(X_test)\n",
    "print(classification_report(y_test, y_pred),'\\n\\n')\n",
    "\n",
    "sns.heatmap(confusion_matrix(y_test, y_pred), annot = True, fmt = '')\n",
    "plt.xlabel(\"Predicted values\", fontdict = {'size':14}, labelpad = 10)\n",
    "plt.ylabel(\"Actual values\"   , fontdict = {'size':14}, labelpad = 10)\n",
    "plt.title (\"Confusion Matrix\", fontdict = {'size':18}, pad = 20)\n",
    "plt.show()"
   ]
  },
  {
   "cell_type": "code",
   "execution_count": 65,
   "metadata": {
    "colab": {
     "base_uri": "https://localhost:8080/",
     "height": 510
    },
    "id": "k7vqGdLyuWDl",
    "outputId": "440eefc3-8975-4010-fa00-04527d5f4005"
   },
   "outputs": [
    {
     "name": "stdout",
     "output_type": "stream",
     "text": [
      "              precision    recall  f1-score   support\n",
      "\n",
      "           0       1.00      1.00      1.00     13020\n",
      "           1       1.00      1.00      1.00     13743\n",
      "\n",
      "    accuracy                           1.00     26763\n",
      "   macro avg       1.00      1.00      1.00     26763\n",
      "weighted avg       1.00      1.00      1.00     26763\n",
      " \n",
      "\n",
      "\n"
     ]
    },
    {
     "data": {
      "image/png": "[encoded data removed]",
      "text/plain": [
       "<Figure size 432x288 with 2 Axes>"
      ]
     },
     "metadata": {
      "needs_background": "light"
     },
     "output_type": "display_data"
    }
   ],
   "source": [
    "LRmodel = LogisticRegression()\n",
    "LRmodel.fit(X_train, y_train)\n",
    "\n",
    "y_pred = LRmodel.predict(X_test)\n",
    "print(classification_report(y_test, y_pred),'\\n\\n')\n",
    "sns.heatmap(confusion_matrix(y_test, y_pred), annot = True, fmt = '')\n",
    "plt.xlabel(\"Predicted values\", fontdict = {'size':14}, labelpad = 10)\n",
    "plt.ylabel(\"Actual values\"   , fontdict = {'size':14}, labelpad = 10)\n",
    "plt.title (\"Confusion Matrix\", fontdict = {'size':18}, pad = 20)\n",
    "plt.show()"
   ]
  },
  {
   "cell_type": "markdown",
   "metadata": {},
   "source": [
    "## 4)b) Modeling on clean token without hashtags"
   ]
  },
  {
   "cell_type": "code",
   "execution_count": 66,
   "metadata": {},
   "outputs": [],
   "source": [
    "X = df.clean_token.map(lambda x: (' ').join(x))\n",
    "y = df['anti-Israel']"
   ]
  },
  {
   "cell_type": "code",
   "execution_count": 67,
   "metadata": {},
   "outputs": [
    {
     "name": "stdout",
     "output_type": "stream",
     "text": [
      "              precision    recall  f1-score   support\n",
      "\n",
      "           0       0.86      0.98      0.92     13020\n",
      "           1       0.98      0.85      0.91     13743\n",
      "\n",
      "    accuracy                           0.92     26763\n",
      "   macro avg       0.92      0.92      0.91     26763\n",
      "weighted avg       0.92      0.92      0.91     26763\n",
      " \n",
      "\n",
      "\n"
     ]
    },
    {
     "data": {
      "image/png": "[encoded data removed]",
      "text/plain": [
       "<Figure size 432x288 with 2 Axes>"
      ]
     },
     "metadata": {
      "needs_background": "light"
     },
     "output_type": "display_data"
    }
   ],
   "source": [
    "#TFIDF Vectorizer\n",
    "vectorizer = TfidfVectorizer(max_features=500000)\n",
    "\n",
    "#Convert df.txt from text to features\n",
    "X = vectorizer.fit_transform(X)\n",
    "\n",
    "# df['tfidf_Vect'] = list(X.toarray())\n",
    "\n",
    "X_train, X_test, y_train, y_test = train_test_split(X, y, random_state = 0)\n",
    "\n",
    "BNBmodel = BernoulliNB()\n",
    "BNBmodel.fit(X_train, y_train)\n",
    "y_pred = BNBmodel.predict(X_test)\n",
    "print(classification_report(y_test, y_pred),'\\n\\n')\n",
    "\n",
    "sns.heatmap(confusion_matrix(y_test, y_pred), annot = True, fmt = '')\n",
    "plt.xlabel(\"Predicted values\", fontdict = {'size':14}, labelpad = 10)\n",
    "plt.ylabel(\"Actual values\"   , fontdict = {'size':14}, labelpad = 10)\n",
    "plt.title (\"Confusion Matrix\", fontdict = {'size':18}, pad = 20)\n",
    "plt.show()"
   ]
  },
  {
   "cell_type": "code",
   "execution_count": 68,
   "metadata": {},
   "outputs": [
    {
     "name": "stdout",
     "output_type": "stream",
     "text": [
      "              precision    recall  f1-score   support\n",
      "\n",
      "           0       0.92      0.98      0.95     13020\n",
      "           1       0.98      0.92      0.95     13743\n",
      "\n",
      "    accuracy                           0.95     26763\n",
      "   macro avg       0.95      0.95      0.95     26763\n",
      "weighted avg       0.95      0.95      0.95     26763\n",
      " \n",
      "\n",
      "\n"
     ]
    },
    {
     "data": {
      "image/png": "[encoded data removed]",
      "text/plain": [
       "<Figure size 432x288 with 2 Axes>"
      ]
     },
     "metadata": {
      "needs_background": "light"
     },
     "output_type": "display_data"
    }
   ],
   "source": [
    "LRmodel = LogisticRegression()\n",
    "LRmodel.fit(X_train, y_train)\n",
    "\n",
    "y_pred = LRmodel.predict(X_test)\n",
    "print(classification_report(y_test, y_pred),'\\n\\n')\n",
    "sns.heatmap(confusion_matrix(y_test, y_pred), annot = True, fmt = '')\n",
    "plt.xlabel(\"Predicted values\", fontdict = {'size':14}, labelpad = 10)\n",
    "plt.ylabel(\"Actual values\"   , fontdict = {'size':14}, labelpad = 10)\n",
    "plt.title (\"Confusion Matrix\", fontdict = {'size':18}, pad = 20)\n",
    "plt.show()"
   ]
  },
  {
   "cell_type": "markdown",
   "metadata": {},
   "source": [
    "## 5) Conclusion\n",
    "\n",
    "If I had to detect anti-Israel tweets I will use the training set with the hastags if I have to detect anti-israel text for example in forums, news paper or other social network _(*where we do not use hastags)_ I will use the training without hastags\n",
    "\n",
    "\n",
    "I am consious that we train our model on specific hastags that could not be representative so we have a chance to overfit this dataset"
   ]
  }
 ],
 "metadata": {
  "colab": {
   "collapsed_sections": [],
   "name": "twitter_brawling.ipynb",
   "provenance": []
  },
  "kernelspec": {
   "display_name": "Python 3",
   "language": "python",
   "name": "python3"
  },
  "language_info": {
   "codemirror_mode": {
    "name": "ipython",
    "version": 3
   },
   "file_extension": ".py",
   "mimetype": "text/x-python",
   "name": "python",
   "nbconvert_exporter": "python",
   "pygments_lexer": "ipython3",
   "version": "3.8.8"
  }
 },
 "nbformat": 4,
 "nbformat_minor": 1
}
